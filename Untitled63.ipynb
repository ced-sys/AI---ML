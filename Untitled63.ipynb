{
  "nbformat": 4,
  "nbformat_minor": 0,
  "metadata": {
    "colab": {
      "private_outputs": true,
      "provenance": [],
      "authorship_tag": "ABX9TyOw3TMMwv+8HHjV3674dnq9",
      "include_colab_link": true
    },
    "kernelspec": {
      "name": "python3",
      "display_name": "Python 3"
    },
    "language_info": {
      "name": "python"
    }
  },
  "cells": [
    {
      "cell_type": "markdown",
      "metadata": {
        "id": "view-in-github",
        "colab_type": "text"
      },
      "source": [
        "<a href=\"https://colab.research.google.com/github/ced-sys/AI---ML/blob/main/Untitled63.ipynb\" target=\"_parent\"><img src=\"https://colab.research.google.com/assets/colab-badge.svg\" alt=\"Open In Colab\"/></a>"
      ]
    },
    {
      "cell_type": "code",
      "source": [
        "!pip install catboost"
      ],
      "metadata": {
        "id": "M9nhImkvUfew"
      },
      "execution_count": null,
      "outputs": []
    },
    {
      "cell_type": "code",
      "execution_count": null,
      "metadata": {
        "id": "YMuZahP8Md_5"
      },
      "outputs": [],
      "source": [
        "import pandas as pd\n",
        "import numpy as np\n",
        "import geopandas as gpd\n",
        "from sklearn.ensemble import RandomForestClassifier, GradientBoostingClassifier\n",
        "from sklearn.model_selection import train_test_split, cross_val_score, GridSearchCV\n",
        "from sklearn.preprocessing import StandardScaler, RobustScaler\n",
        "from sklearn.metrics import accuracy_score, classification_report, confusion_matrix\n",
        "from sklearn.linear_model import LogisticRegression\n",
        "from sklearn.svm import SVC\n",
        "import xgboost as xgb\n",
        "import lightgbm as lgb\n",
        "from catboost import CatBoostClassifier\n",
        "import matplotlib.pyplot as plt\n",
        "import seaborn as sns\n",
        "from datetime import datetime\n",
        "import warnings\n",
        "warnings.filterwarnings('ignore')"
      ]
    },
    {
      "cell_type": "code",
      "source": [
        "class CroplandMapper:\n",
        "  def __init__(Self, data_path):\n",
        "    self.data_path=data_path\n",
        "    self.models={}\n",
        "    self.scaler={}\n",
        "    self.feature_names=[]\n",
        "    self.best_model=None\n",
        "\n",
        "  def load_data(self):\n",
        "    print(\"Loading data files...\")\n",
        "\n",
        "    try:\n",
        "      self.train_fergana=gpd.read_file(f\"{self.data_path}/Train/fergana_train.shp\")\n",
        "      self.train_orenburg-gpd.read_file(f\"{self.data_path}/Train/orenburg_train.shp\")\n",
        "      print(f\"Loaded Fergana training data: {len(self.train_fergana)} samples\")\n",
        "      print(f\"Loaded Orenburg training data: {len(self.train_orenburg)} samples\")\n",
        "\n",
        "    except Exception as e:\n",
        "      print(f\"Error loading shapefiles: {e}\")\n",
        "      try:\n",
        "        import os\n",
        "        train_files=os.listdir(f\"{self.data_path}/Train\")\n",
        "        shp_files=[f for f in train_files if f.endswith('.shp')]\n",
        "        print(f\"Found shapefiles: {shp_files}\")\n",
        "\n",
        "        if len(sh_files)>=2:\n",
        "          self.train_fergana=gpd.read_file(f\"{self.data_path}/Train/{shp_files[0]}\")\n",
        "          self.train_orenburg=gpd.read_file(f\"{self.data_path}/Train/{shp_files[1]}\")\n",
        "          print(f\"Loaded trainin data successfully\")\n",
        "\n",
        "      except Exception as e2:\n",
        "        print(f\"Failed to load shapefiles: {e2}\")\n",
        "        return False\n",
        "\n",
        "    try:\n",
        "\n",
        "      self.sentinel1_data=pd.read_csv(f\"{self.data_path}/Sentinel1.csv\")\n",
        "      self.sentinel2_data=pd.read_csv(f\"{self.data_path}/Sentinel2.csv\")\n",
        "      self.test_data=pd.read_csv(f\"{self.data_path}/Test.csv\")\n",
        "\n",
        "    except Exception as e:\n",
        "      print(f\"Error loading CSV files: {e}\")\n",
        "      return False\n",
        "\n",
        "    return True"
      ],
      "metadata": {
        "id": "N7GvBPqXTGDT"
      },
      "execution_count": null,
      "outputs": []
    }
  ]
}